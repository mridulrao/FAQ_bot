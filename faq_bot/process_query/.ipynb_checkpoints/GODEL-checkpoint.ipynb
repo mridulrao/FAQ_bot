{
 "cells": [
  {
   "cell_type": "code",
   "execution_count": 1,
   "id": "88e3ac93",
   "metadata": {},
   "outputs": [],
   "source": [
    "def get_knowledge():\n",
    "    with open(\"/Users/kawaii/Desktop/faq_bot/faq_bot/process_query/knowledge.txt\") as file:\n",
    "        knowledge = file.read()\n",
    "    \n",
    "    file.close()\n",
    "    return knowledge"
   ]
  },
  {
   "cell_type": "code",
   "execution_count": 2,
   "id": "7c453312",
   "metadata": {},
   "outputs": [],
   "source": [
    "knowledge = get_knowledge()"
   ]
  },
  {
   "cell_type": "code",
   "execution_count": 3,
   "id": "741ea948",
   "metadata": {},
   "outputs": [
    {
     "data": {
      "text/plain": [
       "['Graphic Era (Deemed to be University) is the culmination of the hard work of its visionary founder, Prof. (Dr.) Kamal Ghanshala, \\n',\n",
       " 'who had the dream to change the destiny of thousands of youth through quality and holistic education. In 1993, he embarked on the \\n',\n",
       " 'mission to transform the higher education landscape of the Doon Valley with twenty-nine thousand rupees in his pocket and loads \\n',\n",
       " 'of determination in his heart. His vision gained concrete shape in 1996 in the form of the Graphic Era Institute of Technology (GEIT). \\n',\n",
       " '\\n',\n",
       " 'In 2008, the Institute was accorded the status of Deemed University under Section 3 of the UGC Act, 1956 vide Notification \\n',\n",
       " 'F.9-48/2007-U.3 (A) dated August 14, 2008 and approved by the Ministry of Human Resource Development, Government of India. \\n',\n",
       " 'In 2015, Graphic Era University was accredited by NAAC with grade ‘A.’ In July 2022, Graphic Era (Deemed to be University) was \\n',\n",
       " 'conferred All-India Rank 64 in the Engineering Category, All India Rank 65 in Management Category, and All India Rank 74 in \\n',\n",
       " 'the University Category in the MHRD NIRF (National Institutional Ranking Framework) Rankings and retained its position \\n',\n",
       " 'consecutively for the third year amongst top 100 universities of India. \\n',\n",
       " '\\n',\n",
       " 'The premier university has acquired transnational dimensions through student exchange and knowledge-sharing programs with many \\n',\n",
       " 'foreign universities and has been acclaimed and honored at international forums for its brilliance in upholding the highest \\n',\n",
       " 'standards of education. It has taken big initiative in engineering programs by getting into partnerships with Tata Technologies \\n',\n",
       " 'and IBM to create next age engineering professionals through industry collaborations. It hosts Technology Business Incubator \\n',\n",
       " 'that provides support for technology-based entrepreneurship. \\n',\n",
       " '\\n',\n",
       " 'At present, Graphic Era (Deemed to be University) has innumerable students on its rolls, pursuing education in different \\n',\n",
       " 'disciplines, ranging from engineering, science, business, management, commerce, hospitality to humanities and social sciences. \\n',\n",
       " 'The alumni of Graphic Era can be encountered worldwide in marquee brands like Apple, Google, Microsoft, HSBC, to name a few, \\n',\n",
       " 'and in the service of the nation in all wings of the Armed Forces. GEU stands tall as a leading university in Uttarakhand \\n',\n",
       " 'ranked amongst the top 75 Universities of the country and as an abode of learning and excellence, setting new benchmarks in all \\n',\n",
       " 'parameters of assessment like teaching, learning, research, graduation outcome, outreach, industrial presence and more, for \\n',\n",
       " 'Indian Institutions of higher education. \\n',\n",
       " '\\n',\n",
       " ' ']"
      ]
     },
     "execution_count": 3,
     "metadata": {},
     "output_type": "execute_result"
    }
   ],
   "source": [
    "knowledge"
   ]
  },
  {
   "cell_type": "code",
   "execution_count": null,
   "id": "6e38996a",
   "metadata": {},
   "outputs": [],
   "source": []
  }
 ],
 "metadata": {
  "kernelspec": {
   "display_name": "Python 3 (ipykernel)",
   "language": "python",
   "name": "python3"
  },
  "language_info": {
   "codemirror_mode": {
    "name": "ipython",
    "version": 3
   },
   "file_extension": ".py",
   "mimetype": "text/x-python",
   "name": "python",
   "nbconvert_exporter": "python",
   "pygments_lexer": "ipython3",
   "version": "3.8.12"
  }
 },
 "nbformat": 4,
 "nbformat_minor": 5
}
